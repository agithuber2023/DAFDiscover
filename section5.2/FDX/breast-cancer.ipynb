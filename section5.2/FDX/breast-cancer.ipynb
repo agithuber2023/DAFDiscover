{
 "cells": [
  {
   "cell_type": "code",
   "execution_count": 1,
   "metadata": {
    "collapsed": false
   },
   "outputs": [],
   "source": [
    "from profiler.core import *"
   ]
  },
  {
   "cell_type": "markdown",
   "metadata": {},
   "source": [
    "## 1. Instantiate Engine\n",
    "* workers : number of processes\n",
    "* tol     : tolerance for differences when creating training data (set to 0 if data is completely clean)\n",
    "* eps     : error bound for inverse covariance estimation (since we use conservative calculation when determining minimum sample size, we recommend to set eps <= 0.01)\n",
    "* embedtxt: if set to true, differentiate b/w textual data and categorical data, and use word embedding for the former"
   ]
  },
  {
   "cell_type": "code",
   "execution_count": 2,
   "metadata": {
    "collapsed": true
   },
   "outputs": [],
   "source": [
    "pf = Profiler(workers=2, tol=1e-6, eps=0.05, embedtxt=True)"
   ]
  },
  {
   "cell_type": "markdown",
   "metadata": {},
   "source": [
    "## 2. Load Data\n",
    "* name: any name you like\n",
    "* src: \\[FILE; DF; DB (not implemented)\\]\n",
    "* fpath: required if src == FILE\n",
    "* df: required if src == DF\n",
    "* check_param: print parameters used for data loading"
   ]
  },
  {
   "cell_type": "code",
   "execution_count": 3,
   "metadata": {
    "collapsed": false
   },
   "outputs": [
    {
     "name": "stderr",
     "output_type": "stream",
     "text": [
      "INFO:profiler.utility:[2.460017204284668] Load Data start\n",
      "\n",
      "INFO:profiler.data.dataset:parameters used for data loading:\n",
      " {'na_values': 'empty', 'sep': ',', 'header': 'infer', 'dropcol': None, 'dropna': False, 'encoding': 'utf-8', 'normalize': True, 'min_categories_for_embedding': 10}\n",
      "INFO:profiler.data.dataset:inferred types of attributes: {\n",
      "    \"0\": \"numeric\",\n",
      "    \"1\": \"numeric\",\n",
      "    \"2\": \"numeric\",\n",
      "    \"3\": \"numeric\",\n",
      "    \"4\": \"numeric\",\n",
      "    \"5\": \"numeric\",\n",
      "    \"6\": \"numeric\",\n",
      "    \"7\": \"numeric\",\n",
      "    \"8\": \"categorical\",\n",
      "    \"9\": \"numeric\",\n",
      "    \"10\": \"categorical\"\n",
      "}\n",
      "INFO:profiler.data.dataset:(possible types: numeric, categorical, text, date)\n",
      "INFO:profiler.data.dataset:inferred operators of attributes: {'0': ['equal'], '1': ['equal'], '2': ['equal'], '3': ['equal'], '4': ['equal'], '5': ['equal'], '6': ['equal'], '7': ['equal'], '8': ['equal'], '9': ['equal'], '10': ['equal']}\n",
      "INFO:profiler.data.dataset:(possible operators: equal, notequal, greater_than, less_than)\n",
      "INFO:profiler.utility:[2.5734035968780518] Load Data execution time: 0.11338639259338379\n",
      "\n"
     ]
    }
   ],
   "source": [
    "# pf.session.load_data(name='hospital', src=FILE, fpath='data/hospital_clean_unflatten.csv', check_param=True, na_values='empty')\n",
    "pf.session.load_data(name='breast-cancer', src=FILE, fpath='breast-cancer-wisconsin/breast-cancer-wisconsin-enhanced-10-dirty.csv', check_param=True, na_values='empty')"
   ]
  },
  {
   "cell_type": "markdown",
   "metadata": {},
   "source": [
    "### 2.1 Change Data Types of Attributes\n",
    "* required input:\n",
    "    * a list of attributes\n",
    "    * a list of data types (must match the order of the attributes; can be CATEGORICAL, NUMERIC, TEXT, DATE)\n",
    "* optional input:\n",
    "    * a list of regular expression extractor"
   ]
  },
  {
   "cell_type": "code",
   "execution_count": 4,
   "metadata": {
    "collapsed": false
   },
   "outputs": [
    {
     "name": "stderr",
     "output_type": "stream",
     "text": [
      "INFO:profiler.data.dataset:updated types of ProviderNumber to 'categorical'\n",
      "INFO:profiler.data.dataset:updated operators of ProviderNumber to ['equal']\n",
      "INFO:profiler.data.dataset:updated types of ZipCode to 'numeric'\n",
      "INFO:profiler.data.dataset:updated operators of ZipCode to ['equal']\n",
      "INFO:profiler.data.dataset:updated types of PhoneNumber to 'categorical'\n",
      "INFO:profiler.data.dataset:updated operators of PhoneNumber to ['equal']\n",
      "INFO:profiler.data.dataset:updated types of State to 'text'\n",
      "INFO:profiler.data.dataset:updated operators of State to ['equal']\n",
      "INFO:profiler.data.dataset:updated types of EmergencyService to 'text'\n",
      "INFO:profiler.data.dataset:updated operators of EmergencyService to ['equal']\n",
      "INFO:profiler.data.dataset:updated types of Score to 'numeric'\n",
      "INFO:profiler.data.dataset:updated operators of Score to ['equal']\n",
      "INFO:profiler.data.dataset:updated types of Sample to 'numeric'\n",
      "INFO:profiler.data.dataset:updated operators of Sample to ['equal']\n",
      "INFO:profiler.data.dataset:updated types of HospitalType to 'text'\n",
      "INFO:profiler.data.dataset:updated operators of HospitalType to ['equal']\n",
      "INFO:profiler.data.dataset:updated types of HospitalOwner to 'text'\n",
      "INFO:profiler.data.dataset:updated operators of HospitalOwner to ['equal']\n",
      "INFO:profiler.data.dataset:updated types of Condition to 'text'\n",
      "INFO:profiler.data.dataset:updated operators of Condition to ['equal']\n",
      "INFO:profiler.data.dataset:updated inferred operators of attributes: {'ProviderNumber': ['equal'], 'HospitalName': ['equal'], 'Address1': ['equal'], 'City': ['equal'], 'State': ['equal'], 'ZipCode': ['equal'], 'CountyName': ['equal'], 'PhoneNumber': ['equal'], 'HospitalType': ['equal'], 'HospitalOwner': ['equal'], 'EmergencyService': ['equal'], 'Condition': ['equal'], 'MeasureCode': ['equal'], 'MeasureName': ['equal'], 'Score': ['equal'], 'Sample': ['equal'], 'Stateavg': ['equal']}\n"
     ]
    }
   ],
   "source": [
    "# pf.session.change_dtypes(['ProviderNumber', 'ZipCode', 'PhoneNumber', 'State', 'EmergencyService','Score', 'Sample','HospitalType','HospitalOwner', 'Condition'], \n",
    "#                             [CATEGORICAL, NUMERIC, CATEGORICAL, TEXT, TEXT, NUMERIC, NUMERIC, TEXT,TEXT, TEXT],\n",
    "#                             [None, None, None, None, None, r'(\\d+)%', r'(\\d+)\\spatients', None, None,None])"
   ]
  },
  {
   "cell_type": "markdown",
   "metadata": {},
   "source": [
    "### 2.2. Load/Train Embeddings for TEXT\n",
    "* path: path to saved/to-save embedding folder\n",
    "* load: set to true -- load saved vec from 'path'; set to false -- train locally\n",
    "* save: (only for load = False) save trained vectors to 'path'"
   ]
  },
  {
   "cell_type": "code",
   "execution_count": 4,
   "metadata": {
    "collapsed": false,
    "scrolled": true
   },
   "outputs": [
    {
     "name": "stderr",
     "output_type": "stream",
     "text": [
      "INFO:profiler.utility:[7.807249307632446] Load Embedding start\n",
      "\n",
      "INFO:profiler.utility:[7.811892747879028] Load Embedding execution time: 0.004643440246582031\n",
      "\n"
     ]
    }
   ],
   "source": [
    "pf.session.load_embedding(save=True, path='data/', load=False)"
   ]
  },
  {
   "cell_type": "markdown",
   "metadata": {},
   "source": [
    "## 3. Load Training Data\n",
    "* multiplier: if set to None, will infer the minimal sample size; otherwise, it will create (# samples) * (# attributes) * (multiplier) training samples"
   ]
  },
  {
   "cell_type": "code",
   "execution_count": 5,
   "metadata": {
    "collapsed": false
   },
   "outputs": [
    {
     "name": "stderr",
     "output_type": "stream",
     "text": [
      "INFO:profiler.utility:[10.717896223068237] Create Training Data start\n",
      "\n",
      "INFO:profiler.data.transformer:needs multiplier = 1 to bound the error in inv cov estimation <= 0.05000000\n",
      "INFO:profiler.data.transformer:use multiplier = 1, and the bound is 0.00111575\n",
      "INFO:profiler.data.transformer:Using multiplier 5\n",
      "INFO:profiler.data.transformer:Draw Pairs\n",
      "100%|██████████| 11/11 [00:00<00:00, 153.77it/s]\n",
      "INFO:profiler.data.transformer:Number of training samples: 77000\n",
      "INFO:profiler.data.transformer:Computing Differences\n",
      "INFO:profiler.data.transformer:estimated missing data probability in training data is 0.0000\n",
      "INFO:profiler.utility:[11.141395330429077] Create Training Data execution time: 0.42349910736083984\n",
      "\n"
     ]
    }
   ],
   "source": [
    "# use simple empirical cov: difference=False\n",
    "# use difference -> cov : difference=True\n",
    "pf.session.load_training_data(multiplier = None, difference=True)"
   ]
  },
  {
   "cell_type": "markdown",
   "metadata": {},
   "source": [
    "## 4. Learn Structure\n",
    "* sparsity: intensity of L1-regularizer in inverse covariance estimation (glasso)\n",
    "* take_neg: if set to true, consider equal -> equal only"
   ]
  },
  {
   "cell_type": "code",
   "execution_count": 6,
   "metadata": {
    "collapsed": false
   },
   "outputs": [
    {
     "name": "stderr",
     "output_type": "stream",
     "text": [
      "INFO:profiler.utility:[13.67332649230957] Learn Structure start\n",
      "\n",
      "INFO:profiler.learner:use threshold 0.3018\n",
      "INFO:profiler.utility:[13.897108554840088] Learn Structure execution time: 0.22378206253051758\n",
      "\n"
     ]
    }
   ],
   "source": [
    "# set sparsity to 0 for exp_reproduce \n",
    "autoregress_matrix = pf.session.learn_structure(sparsity=0, infer_order=True)"
   ]
  },
  {
   "cell_type": "markdown",
   "metadata": {},
   "source": [
    "* score: \n",
    "    * \"fit_error\": mse for fitting y = B'X + c for each atttribute y \n",
    "    * \"training_data_fd_vio_ratio\": the higher the score, the more violations of FDs in the training data. (bounded: \\[0,1\\])"
   ]
  },
  {
   "cell_type": "code",
   "execution_count": 7,
   "metadata": {
    "collapsed": false,
    "scrolled": false
   },
   "outputs": [
    {
     "name": "stderr",
     "output_type": "stream",
     "text": [
      "INFO:profiler.utility:[16.76498794555664] Get Dependencies start\n",
      "\n",
      "INFO:profiler.utility:[16.841519832611084] Get Dependencies execution time: 0.07653188705444336\n",
      "\n"
     ]
    },
    {
     "name": "stdout",
     "output_type": "stream",
     "text": [
      "1 -> 0 (0.21823330109898093)\n",
      "1 -> 2 (0.120935945309838)\n",
      "0,2 -> 3 (0.003623885410185783)\n",
      "0,2,3 -> 5 (0.05617785270965386)\n",
      "1,0,3,5 -> 6 (0.13551095465309373)\n",
      "1,0,3,5 -> 7 (0.10115485721364421)\n",
      "1,0,3,6,7 -> 8 (0.5119392423783516)\n",
      "1,0,7,8 -> 9 (0.08084290814265076)\n",
      "0,2,3,6,8,9 -> 10 (0.08901097813368064)\n",
      "1,3,5,6,7,8,10 -> 4 (0.12085381129959323)\n",
      "{'1': array([], dtype=object), '0': array(['1'], dtype=object), '2': array(['1'], dtype=object), '3': array(['0', '2'], dtype=object), '5': array(['0', '2', '3'], dtype=object), '6': array(['1', '0', '3', '5'], dtype=object), '7': array(['1', '0', '3', '5'], dtype=object), '8': array(['1', '0', '3', '6', '7'], dtype=object), '9': array(['1', '0', '7', '8'], dtype=object), '10': array(['0', '2', '3', '6', '8', '9'], dtype=object), '4': array(['1', '3', '5', '6', '7', '8', '10'], dtype=object)}\n"
     ]
    }
   ],
   "source": [
    "parent_sets = pf.session.get_dependencies(score=\"fit_error\")"
   ]
  },
  {
   "cell_type": "code",
   "execution_count": 9,
   "metadata": {
    "collapsed": true
   },
   "outputs": [],
   "source": [
    "import os, json\n",
    "def read_fds(path='data/fds', f='TECHospital-hyfd'):\n",
    "    all_fds = {}\n",
    "    for line in open(os.path.join(path,f)):\n",
    "        fd = json.loads(line)\n",
    "        right = fd[u'dependant']['columnIdentifier']\n",
    "        left = [l[u'columnIdentifier'] for l in fd[ u'determinant'][u'columnIdentifiers']]\n",
    "        if right not in all_fds:\n",
    "            all_fds[right] = set()\n",
    "        all_fds[right].add(frozenset(left))\n",
    "    return all_fds"
   ]
  },
  {
   "cell_type": "code",
   "execution_count": 10,
   "metadata": {
    "collapsed": true
   },
   "outputs": [],
   "source": [
    "gt = read_fds(f='hospital_clean-fun')"
   ]
  },
  {
   "cell_type": "code",
   "execution_count": 11,
   "metadata": {
    "collapsed": false
   },
   "outputs": [
    {
     "name": "stdout",
     "output_type": "stream",
     "text": [
      "['HospitalOwner'] -> ZipCode is not valid\n",
      "['HospitalType' 'State'] -> Stateavg is not valid\n",
      "['ZipCode' 'State' 'MeasureName'] -> Sample is not valid\n",
      "['HospitalType' 'Stateavg'] -> Score is not valid\n",
      "Precision: 0.7500\n"
     ]
    }
   ],
   "source": [
    "tp = 0\n",
    "count = 0\n",
    "for child in parent_sets:\n",
    "    found = parent_sets[child]\n",
    "    if len(found) == 0:\n",
    "        continue\n",
    "    count += 1\n",
    "    match = False\n",
    "    for parent in gt[child]:\n",
    "        if set(parent).issubset(found):\n",
    "            tp += 1\n",
    "            match = True\n",
    "            break\n",
    "    if not match:\n",
    "        print(\"{} -> {} is not valid\".format(found, child))\n",
    "if count > 0:\n",
    "    print(\"Precision: %.4f\"%(float(tp) / count))"
   ]
  },
  {
   "cell_type": "markdown",
   "metadata": {},
   "source": [
    "## 5. Visualization"
   ]
  },
  {
   "cell_type": "code",
   "execution_count": 15,
   "metadata": {
    "collapsed": false,
    "scrolled": false
   },
   "outputs": [
    {
     "data": {
      "image/png": "[encoded data removed]",
      "text/plain": [
       "<Figure size 1000x800 with 2 Axes>"
      ]
     },
     "metadata": {},
     "output_type": "display_data"
    }
   ],
   "source": [
    "pf.session.visualize_covariance()"
   ]
  },
  {
   "cell_type": "code",
   "execution_count": 16,
   "metadata": {
    "collapsed": false,
    "scrolled": false
   },
   "outputs": [
    {
     "data": {
      "image/png": "[encoded data removed]",
      "text/plain": [
       "<Figure size 1000x800 with 2 Axes>"
      ]
     },
     "metadata": {},
     "output_type": "display_data"
    }
   ],
   "source": [
    "pf.session.visualize_inverse_covariance()"
   ]
  },
  {
   "cell_type": "code",
   "execution_count": 17,
   "metadata": {
    "collapsed": false
   },
   "outputs": [
    {
     "data": {
      "image/png": "[encoded data removed]",
      "text/plain": [
       "<Figure size 1000x800 with 2 Axes>"
      ]
     },
     "metadata": {},
     "output_type": "display_data"
    }
   ],
   "source": [
    "pf.session.visualize_autoregression()"
   ]
  },
  {
   "cell_type": "code",
   "execution_count": 8,
   "metadata": {
    "collapsed": false
   },
   "outputs": [
    {
     "data": {
      "text/html": [
       "<div>\n",
       "<style scoped>\n",
       "    .dataframe tbody tr th:only-of-type {\n",
       "        vertical-align: middle;\n",
       "    }\n",
       "\n",
       "    .dataframe tbody tr th {\n",
       "        vertical-align: top;\n",
       "    }\n",
       "\n",
       "    .dataframe thead th {\n",
       "        text-align: right;\n",
       "    }\n",
       "</style>\n",
       "<table border=\"1\" class=\"dataframe\">\n",
       "  <thead>\n",
       "    <tr style=\"text-align: right;\">\n",
       "      <th></th>\n",
       "      <th>time_point</th>\n",
       "      <th>msg</th>\n",
       "      <th>execution_time</th>\n",
       "    </tr>\n",
       "  </thead>\n",
       "  <tbody>\n",
       "    <tr>\n",
       "      <th>0</th>\n",
       "      <td>2.460017</td>\n",
       "      <td>start: Load Data</td>\n",
       "      <td>0.000000</td>\n",
       "    </tr>\n",
       "    <tr>\n",
       "      <th>1</th>\n",
       "      <td>2.573404</td>\n",
       "      <td>end: Load Data</td>\n",
       "      <td>0.113386</td>\n",
       "    </tr>\n",
       "    <tr>\n",
       "      <th>2</th>\n",
       "      <td>7.807249</td>\n",
       "      <td>start: Load Embedding</td>\n",
       "      <td>0.000000</td>\n",
       "    </tr>\n",
       "    <tr>\n",
       "      <th>3</th>\n",
       "      <td>7.811893</td>\n",
       "      <td>end: Load Embedding</td>\n",
       "      <td>0.004643</td>\n",
       "    </tr>\n",
       "    <tr>\n",
       "      <th>4</th>\n",
       "      <td>10.717896</td>\n",
       "      <td>start: Create Training Data</td>\n",
       "      <td>0.000000</td>\n",
       "    </tr>\n",
       "    <tr>\n",
       "      <th>5</th>\n",
       "      <td>11.141395</td>\n",
       "      <td>end: Create Training Data</td>\n",
       "      <td>0.423499</td>\n",
       "    </tr>\n",
       "    <tr>\n",
       "      <th>6</th>\n",
       "      <td>13.673326</td>\n",
       "      <td>start: Learn Structure</td>\n",
       "      <td>0.000000</td>\n",
       "    </tr>\n",
       "    <tr>\n",
       "      <th>7</th>\n",
       "      <td>13.897109</td>\n",
       "      <td>end: Learn Structure</td>\n",
       "      <td>0.223782</td>\n",
       "    </tr>\n",
       "    <tr>\n",
       "      <th>8</th>\n",
       "      <td>16.764988</td>\n",
       "      <td>start: Get Dependencies</td>\n",
       "      <td>0.000000</td>\n",
       "    </tr>\n",
       "    <tr>\n",
       "      <th>9</th>\n",
       "      <td>16.841520</td>\n",
       "      <td>end: Get Dependencies</td>\n",
       "      <td>0.076532</td>\n",
       "    </tr>\n",
       "    <tr>\n",
       "      <th>10</th>\n",
       "      <td>16.841520</td>\n",
       "      <td>total_execution_time</td>\n",
       "      <td>0.841843</td>\n",
       "    </tr>\n",
       "  </tbody>\n",
       "</table>\n",
       "</div>"
      ],
      "text/plain": [
       "    time_point                          msg  execution_time\n",
       "0     2.460017             start: Load Data        0.000000\n",
       "1     2.573404               end: Load Data        0.113386\n",
       "2     7.807249        start: Load Embedding        0.000000\n",
       "3     7.811893          end: Load Embedding        0.004643\n",
       "4    10.717896  start: Create Training Data        0.000000\n",
       "5    11.141395    end: Create Training Data        0.423499\n",
       "6    13.673326       start: Learn Structure        0.000000\n",
       "7    13.897109         end: Learn Structure        0.223782\n",
       "8    16.764988      start: Get Dependencies        0.000000\n",
       "9    16.841520        end: Get Dependencies        0.076532\n",
       "10   16.841520         total_execution_time        0.841843"
      ]
     },
     "execution_count": 8,
     "metadata": {},
     "output_type": "execute_result"
    }
   ],
   "source": [
    "pf.session.timer.get_stat()"
   ]
  },
  {
   "cell_type": "code",
   "execution_count": 16,
   "metadata": {
    "collapsed": false
   },
   "outputs": [],
   "source": [
    "pf.session.timer.to_csv()"
   ]
  },
  {
   "cell_type": "code",
   "execution_count": null,
   "metadata": {
    "collapsed": true
   },
   "outputs": [],
   "source": []
  },
  {
   "cell_type": "code",
   "execution_count": null,
   "metadata": {
    "collapsed": true
   },
   "outputs": [],
   "source": []
  }
 ],
 "metadata": {
  "kernelspec": {
   "display_name": "Python 3",
   "language": "python",
   "name": "python3"
  },
  "language_info": {
   "codemirror_mode": {
    "name": "ipython",
    "version": 3
   },
   "file_extension": ".py",
   "mimetype": "text/x-python",
   "name": "python",
   "nbconvert_exporter": "python",
   "pygments_lexer": "ipython3",
   "version": "3.7.13"
  }
 },
 "nbformat": 4,
 "nbformat_minor": 2
}
